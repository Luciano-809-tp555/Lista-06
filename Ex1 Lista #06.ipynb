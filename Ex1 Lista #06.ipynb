{
 "cells": [
  {
   "cell_type": "code",
   "execution_count": 1,
   "metadata": {},
   "outputs": [],
   "source": [
    "# Import all necessary libraries.\n",
    "import numpy as np\n",
    "import matplotlib.pyplot as plt\n",
    "from matplotlib.colors import ListedColormap\n",
    "from sklearn.neighbors import KNeighborsClassifier\n",
    "from sklearn.model_selection import train_test_split\n",
    "from sklearn.datasets import make_blobs\n",
    "from sklearn.metrics import confusion_matrix, accuracy_score, roc_curve, auc, classification_report\n",
    "import seaborn as sns"
   ]
  },
  {
   "cell_type": "code",
   "execution_count": 2,
   "metadata": {},
   "outputs": [],
   "source": [
    "numberSamples = 9\n",
    "numberClass = 2\n",
    "\n",
    "x_test = [[4, 7], [5, 6], [3, 4], [6, 9], [6, 4], [7, 6], [8, 0], [10, 10], [12, 3]]\n",
    "y_test = [[0], [0], [0], [0], [1], [1], [1], [1], [1]]\n",
    "x_val = [[6, 5]]"
   ]
  },
  {
   "cell_type": "code",
   "execution_count": 3,
   "metadata": {},
   "outputs": [],
   "source": [
    "def dist(x1, x2):\n",
    "    return np.sqrt(np.square(x1[0]-x2[0]) + np.square(x1[1]-x2[1]))"
   ]
  },
  {
   "cell_type": "code",
   "execution_count": 4,
   "metadata": {},
   "outputs": [
    {
     "name": "stdout",
     "output_type": "stream",
     "text": [
      "[1. 2.]\n"
     ]
    }
   ],
   "source": [
    "## case k == 3\n",
    "k = 3\n",
    "distances = [(0, 0)]*numberSamples\n",
    "\n",
    "for i in range(numberSamples):\n",
    "    distance = dist(x_test[i], x_val[0])\n",
    "    distances[i] = (distance, i)\n",
    "\n",
    "distances.sort(key=lambda tup: tup[0])\n",
    "\n",
    "count = np.zeros(numberClass)\n",
    "for i in range(k):\n",
    "    count[y_test[distances[i][1]]] = count[y_test[distances[i][1]]]+1\n",
    "\n",
    "print(count)\n",
    "\n",
    "## a amostra de validação pertence a classe 1"
   ]
  },
  {
   "cell_type": "code",
   "execution_count": 5,
   "metadata": {},
   "outputs": [
    {
     "name": "stdout",
     "output_type": "stream",
     "text": [
      "[3. 2.]\n"
     ]
    }
   ],
   "source": [
    "## case k == 5\n",
    "k = 5\n",
    "distances = [(0, 0)]*numberSamples\n",
    "\n",
    "for i in range(numberSamples):\n",
    "    distance = dist(x_test[i], x_val[0])\n",
    "    distances[i] = (distance, i)\n",
    "\n",
    "distances.sort(key=lambda tup: tup[0])\n",
    "\n",
    "count = np.zeros(numberClass)\n",
    "for i in range(k):\n",
    "    count[y_test[distances[i][1]]] = count[y_test[distances[i][1]]]+1\n",
    "\n",
    "print(count)\n",
    "\n",
    "## a amostra de validação pertence a classe 0"
   ]
  },
  {
   "cell_type": "code",
   "execution_count": 6,
   "metadata": {},
   "outputs": [
    {
     "name": "stdout",
     "output_type": "stream",
     "text": [
      "Using K == 3 we got class [1.]\n",
      "Using K == 5 we got class [0.]\n"
     ]
    }
   ],
   "source": [
    "x = np.zeros((numberSamples, 2))\n",
    "y = np.zeros((numberSamples, 1))\n",
    "for i in range(numberSamples):\n",
    "    x[i] = x_test[i]\n",
    "    y[i] = y_test[i]\n",
    "y = y.ravel()\n",
    "\n",
    "for k in [3, 5]:\n",
    "    # Create an instance of Neighbours Classifier and fit the data.\n",
    "    clf = KNeighborsClassifier(k, weights='uniform')\n",
    "    # Train the classifier.\n",
    "    clf.fit(x, y)\n",
    "\n",
    "    Z = clf.predict(x_val)\n",
    "    \n",
    "    print(\"Using K == \" + str(k) + \" we got class \" + str(Z))"
   ]
  },
  {
   "cell_type": "code",
   "execution_count": null,
   "metadata": {},
   "outputs": [],
   "source": []
  }
 ],
 "metadata": {
  "kernelspec": {
   "display_name": "Python 3",
   "language": "python",
   "name": "python3"
  },
  "language_info": {
   "codemirror_mode": {
    "name": "ipython",
    "version": 3
   },
   "file_extension": ".py",
   "mimetype": "text/x-python",
   "name": "python",
   "nbconvert_exporter": "python",
   "pygments_lexer": "ipython3",
   "version": "3.7.6"
  }
 },
 "nbformat": 4,
 "nbformat_minor": 4
}
