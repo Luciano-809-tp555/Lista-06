{
 "cells": [
  {
   "cell_type": "code",
   "execution_count": 1,
   "metadata": {},
   "outputs": [],
   "source": [
    "import numpy as np\n",
    "import matplotlib.pyplot as plt\n",
    "from matplotlib.colors import ListedColormap\n",
    "from sklearn.neighbors import KNeighborsClassifier\n",
    "from sklearn.model_selection import train_test_split\n",
    "from sklearn.metrics import mean_squared_error\n",
    "from sklearn.neighbors import KNeighborsRegressor\n",
    "from sklearn.model_selection import GridSearchCV"
   ]
  },
  {
   "cell_type": "code",
   "execution_count": 2,
   "metadata": {},
   "outputs": [],
   "source": [
    "N = 1000\n",
    "np.random.seed(42)\n",
    "x = np.sort(5 * np.random.rand(N, 1), axis=0)\n",
    "y = np.sin(x).ravel()\n",
    "y_orig = np.sin(x).ravel()\n",
    "\n",
    "# Add noise to targets.\n",
    "y += 0.1*np.random.randn(N)\n",
    "\n",
    "# Split data into train and test subsets.\n",
    "x_train, x_test, y_train, y_test = train_test_split(x, y, test_size=0.2)"
   ]
  },
  {
   "cell_type": "code",
   "execution_count": 3,
   "metadata": {},
   "outputs": [
    {
     "name": "stdout",
     "output_type": "stream",
     "text": [
      "Fitting 5 folds for each of 24 candidates, totalling 120 fits\n"
     ]
    },
    {
     "name": "stderr",
     "output_type": "stream",
     "text": [
      "[Parallel(n_jobs=-1)]: Using backend LokyBackend with 4 concurrent workers.\n",
      "[Parallel(n_jobs=-1)]: Done   5 tasks      | elapsed:    5.8s\n",
      "[Parallel(n_jobs=-1)]: Done  10 tasks      | elapsed:    5.9s\n",
      "[Parallel(n_jobs=-1)]: Done  17 tasks      | elapsed:    5.9s\n",
      "[Parallel(n_jobs=-1)]: Done  24 tasks      | elapsed:    6.0s\n",
      "[Parallel(n_jobs=-1)]: Batch computation too fast (0.1716s.) Setting batch_size=2.\n",
      "[Parallel(n_jobs=-1)]: Done  34 tasks      | elapsed:    6.0s\n",
      "[Parallel(n_jobs=-1)]: Batch computation too fast (0.0395s.) Setting batch_size=4.\n",
      "[Parallel(n_jobs=-1)]: Batch computation too fast (0.0670s.) Setting batch_size=8.\n",
      "[Parallel(n_jobs=-1)]: Done  56 tasks      | elapsed:    6.1s\n"
     ]
    },
    {
     "name": "stdout",
     "output_type": "stream",
     "text": [
      "{'n_neighbors': 20, 'weights': 'uniform'}\n",
      "0.9796209553627315\n"
     ]
    },
    {
     "name": "stderr",
     "output_type": "stream",
     "text": [
      "[Parallel(n_jobs=-1)]: Done  99 tasks      | elapsed:    6.4s\n",
      "[Parallel(n_jobs=-1)]: Done 100 out of 120 | elapsed:    6.4s remaining:    1.2s\n",
      "[Parallel(n_jobs=-1)]: Done 120 out of 120 | elapsed:    6.4s finished\n"
     ]
    }
   ],
   "source": [
    "param_grid = [{'weights': ['uniform', 'distance'], 'n_neighbors': [1, 2, 3, 4, 5, 6, 7, 8, 9, 10, 15, 20]}]\n",
    "knn = KNeighborsRegressor()\n",
    "\n",
    "clf = GridSearchCV(knn, param_grid, cv=5, verbose=10, n_jobs=-1)\n",
    "clf.fit(x_train, y_train)\n",
    "\n",
    "print(clf.best_params_)\n",
    "print(clf.best_score_)"
   ]
  },
  {
   "cell_type": "code",
   "execution_count": 4,
   "metadata": {},
   "outputs": [
    {
     "data": {
      "text/plain": [
       "Text(0.5, 1.0, \"KNeighborsRegressor (k = 20, weights = 'uniform')\")"
      ]
     },
     "execution_count": 4,
     "metadata": {},
     "output_type": "execute_result"
    },
    {
     "data": {
      "image/png": "[encoded data removed]",
      "text/plain": [
       "<Figure size 432x288 with 1 Axes>"
      ]
     },
     "metadata": {
      "needs_background": "light"
     },
     "output_type": "display_data"
    }
   ],
   "source": [
    "knn = KNeighborsRegressor(n_neighbors=20, weights='uniform')\n",
    "knn.fit(x_train, y_train)\n",
    "y_pred = knn.predict(x)\n",
    "\n",
    "plt.scatter(x, y, color='darkorange', label='noisy data')\n",
    "plt.plot(x, y_orig, color='red', label='original data')\n",
    "plt.plot(x, y_pred, color='navy', label='prediction')\n",
    "plt.axis('tight')\n",
    "plt.legend()\n",
    "plt.title(\"KNeighborsRegressor (k = %i, weights = '%s')\" % (20, 'uniform'))"
   ]
  },
  {
   "cell_type": "code",
   "execution_count": 5,
   "metadata": {},
   "outputs": [
    {
     "name": "stdout",
     "output_type": "stream",
     "text": [
      "MSE train = 0.09598216330992831\n",
      "MSE test = 0.10331973237783179\n"
     ]
    }
   ],
   "source": [
    "error_train = np.sqrt(mean_squared_error(y_train, knn.predict(x_train)))\n",
    "error_test = np.sqrt(mean_squared_error(y_test, knn.predict(x_test)))\n",
    "\n",
    "print(\"MSE train = \" + str(error_train))\n",
    "print(\"MSE test = \" + str(error_test))"
   ]
  },
  {
   "cell_type": "code",
   "execution_count": null,
   "metadata": {},
   "outputs": [],
   "source": []
  }
 ],
 "metadata": {
  "kernelspec": {
   "display_name": "Python 3",
   "language": "python",
   "name": "python3"
  },
  "language_info": {
   "codemirror_mode": {
    "name": "ipython",
    "version": 3
   },
   "file_extension": ".py",
   "mimetype": "text/x-python",
   "name": "python",
   "nbconvert_exporter": "python",
   "pygments_lexer": "ipython3",
   "version": "3.7.6"
  }
 },
 "nbformat": 4,
 "nbformat_minor": 4
}
